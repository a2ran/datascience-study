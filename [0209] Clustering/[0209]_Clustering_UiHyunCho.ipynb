{
 "cells": [
  {
   "cell_type": "markdown",
   "metadata": {
    "id": "OvZ4RWub-tp5"
   },
   "source": [
    "주어진 데이터셋을 차원 축소한 뒤 **다양한 알고리즘**을 적용하여 클러스터링을 진행하고, 결과를 시각화하는 작업을 직접 해보면서 **비지도학습** (Unsupervised Learning)에 대한 이해도를 높여 봅시다."
   ]
  },
  {
   "cell_type": "code",
   "execution_count": 1,
   "metadata": {
    "id": "sPkBwLLC_LpB"
   },
   "outputs": [],
   "source": [
    "## 필요한 라이브러리를 임포트합니다.\n",
    "\n",
    "import pandas as pd\n",
    "import numpy as np"
   ]
  },
  {
   "cell_type": "code",
   "execution_count": 2,
   "metadata": {
    "id": "OtnrxMvB-mV_"
   },
   "outputs": [],
   "source": [
    "## 시각화 관련 라이브러리를 임포트합니다.\n",
    "\n",
    "from matplotlib import pyplot as plt\n",
    "import seaborn as sns"
   ]
  },
  {
   "cell_type": "markdown",
   "metadata": {
    "id": "q2EVaet0fezv"
   },
   "source": [
    "### 데이터"
   ]
  },
  {
   "cell_type": "markdown",
   "metadata": {
    "id": "u93F5Rxodjhg"
   },
   "source": [
    "사용할 데이터: 'Marketing Campaign.csv'"
   ]
  },
  {
   "cell_type": "markdown",
   "metadata": {
    "id": "3V10T3GMdkkq"
   },
   "source": [
    "주어진 데이터는 마케팅 캠페인을 펼치고자 하는 소비자들에 대한 정보를 나타낸 데이터입니다. 해당 소비자들을 알맞게 군집화시키는 것이 우리의 목적입니다.\n",
    "\n",
    "총 29개의 column으로 구성되어 있습니다. \n",
    "\n",
    "\n",
    "\n",
    "---\n",
    "\n",
    "\n",
    "\n",
    "\n",
    "\n"
   ]
  },
  {
   "cell_type": "markdown",
   "metadata": {
    "id": "bmzh86T1ftm5"
   },
   "source": [
    "데이터에 대한 자세한 설명은 해당 kaggle 페이지에서 확인하실 수 있습니다.\n",
    "\n",
    "https://www.kaggle.com/datasets/rodsaldanha/arketing-campaign"
   ]
  },
  {
   "cell_type": "markdown",
   "metadata": {
    "id": "13998SwmXdYu"
   },
   "source": [
    "데이터를 불러옵니다."
   ]
  },
  {
   "cell_type": "code",
   "execution_count": 3,
   "metadata": {
    "colab": {
     "base_uri": "https://localhost:8080/",
     "height": 299
    },
    "id": "aavBGusyFTc0",
    "outputId": "75564450-8ac6-4714-f80b-b331dd7e5dba"
   },
   "outputs": [
    {
     "data": {
      "text/html": [
       "<div>\n",
       "<style scoped>\n",
       "    .dataframe tbody tr th:only-of-type {\n",
       "        vertical-align: middle;\n",
       "    }\n",
       "\n",
       "    .dataframe tbody tr th {\n",
       "        vertical-align: top;\n",
       "    }\n",
       "\n",
       "    .dataframe thead th {\n",
       "        text-align: right;\n",
       "    }\n",
       "</style>\n",
       "<table border=\"1\" class=\"dataframe\">\n",
       "  <thead>\n",
       "    <tr style=\"text-align: right;\">\n",
       "      <th></th>\n",
       "      <th>ID</th>\n",
       "      <th>Year_Birth</th>\n",
       "      <th>Education</th>\n",
       "      <th>Marital_Status</th>\n",
       "      <th>Income</th>\n",
       "      <th>Kidhome</th>\n",
       "      <th>Teenhome</th>\n",
       "      <th>Dt_Customer</th>\n",
       "      <th>Recency</th>\n",
       "      <th>MntWines</th>\n",
       "      <th>...</th>\n",
       "      <th>NumWebVisitsMonth</th>\n",
       "      <th>AcceptedCmp3</th>\n",
       "      <th>AcceptedCmp4</th>\n",
       "      <th>AcceptedCmp5</th>\n",
       "      <th>AcceptedCmp1</th>\n",
       "      <th>AcceptedCmp2</th>\n",
       "      <th>Complain</th>\n",
       "      <th>Z_CostContact</th>\n",
       "      <th>Z_Revenue</th>\n",
       "      <th>Response</th>\n",
       "    </tr>\n",
       "  </thead>\n",
       "  <tbody>\n",
       "    <tr>\n",
       "      <th>0</th>\n",
       "      <td>5524</td>\n",
       "      <td>1957</td>\n",
       "      <td>Graduation</td>\n",
       "      <td>Single</td>\n",
       "      <td>58138.0</td>\n",
       "      <td>0</td>\n",
       "      <td>0</td>\n",
       "      <td>2012-09-04</td>\n",
       "      <td>58</td>\n",
       "      <td>635</td>\n",
       "      <td>...</td>\n",
       "      <td>7</td>\n",
       "      <td>0</td>\n",
       "      <td>0</td>\n",
       "      <td>0</td>\n",
       "      <td>0</td>\n",
       "      <td>0</td>\n",
       "      <td>0</td>\n",
       "      <td>3</td>\n",
       "      <td>11</td>\n",
       "      <td>1</td>\n",
       "    </tr>\n",
       "    <tr>\n",
       "      <th>1</th>\n",
       "      <td>2174</td>\n",
       "      <td>1954</td>\n",
       "      <td>Graduation</td>\n",
       "      <td>Single</td>\n",
       "      <td>46344.0</td>\n",
       "      <td>1</td>\n",
       "      <td>1</td>\n",
       "      <td>2014-03-08</td>\n",
       "      <td>38</td>\n",
       "      <td>11</td>\n",
       "      <td>...</td>\n",
       "      <td>5</td>\n",
       "      <td>0</td>\n",
       "      <td>0</td>\n",
       "      <td>0</td>\n",
       "      <td>0</td>\n",
       "      <td>0</td>\n",
       "      <td>0</td>\n",
       "      <td>3</td>\n",
       "      <td>11</td>\n",
       "      <td>0</td>\n",
       "    </tr>\n",
       "    <tr>\n",
       "      <th>2</th>\n",
       "      <td>4141</td>\n",
       "      <td>1965</td>\n",
       "      <td>Graduation</td>\n",
       "      <td>Together</td>\n",
       "      <td>71613.0</td>\n",
       "      <td>0</td>\n",
       "      <td>0</td>\n",
       "      <td>2013-08-21</td>\n",
       "      <td>26</td>\n",
       "      <td>426</td>\n",
       "      <td>...</td>\n",
       "      <td>4</td>\n",
       "      <td>0</td>\n",
       "      <td>0</td>\n",
       "      <td>0</td>\n",
       "      <td>0</td>\n",
       "      <td>0</td>\n",
       "      <td>0</td>\n",
       "      <td>3</td>\n",
       "      <td>11</td>\n",
       "      <td>0</td>\n",
       "    </tr>\n",
       "    <tr>\n",
       "      <th>3</th>\n",
       "      <td>6182</td>\n",
       "      <td>1984</td>\n",
       "      <td>Graduation</td>\n",
       "      <td>Together</td>\n",
       "      <td>26646.0</td>\n",
       "      <td>1</td>\n",
       "      <td>0</td>\n",
       "      <td>2014-02-10</td>\n",
       "      <td>26</td>\n",
       "      <td>11</td>\n",
       "      <td>...</td>\n",
       "      <td>6</td>\n",
       "      <td>0</td>\n",
       "      <td>0</td>\n",
       "      <td>0</td>\n",
       "      <td>0</td>\n",
       "      <td>0</td>\n",
       "      <td>0</td>\n",
       "      <td>3</td>\n",
       "      <td>11</td>\n",
       "      <td>0</td>\n",
       "    </tr>\n",
       "    <tr>\n",
       "      <th>4</th>\n",
       "      <td>5324</td>\n",
       "      <td>1981</td>\n",
       "      <td>PhD</td>\n",
       "      <td>Married</td>\n",
       "      <td>58293.0</td>\n",
       "      <td>1</td>\n",
       "      <td>0</td>\n",
       "      <td>2014-01-19</td>\n",
       "      <td>94</td>\n",
       "      <td>173</td>\n",
       "      <td>...</td>\n",
       "      <td>5</td>\n",
       "      <td>0</td>\n",
       "      <td>0</td>\n",
       "      <td>0</td>\n",
       "      <td>0</td>\n",
       "      <td>0</td>\n",
       "      <td>0</td>\n",
       "      <td>3</td>\n",
       "      <td>11</td>\n",
       "      <td>0</td>\n",
       "    </tr>\n",
       "  </tbody>\n",
       "</table>\n",
       "<p>5 rows × 29 columns</p>\n",
       "</div>"
      ],
      "text/plain": [
       "     ID  Year_Birth   Education Marital_Status   Income  Kidhome  Teenhome  \\\n",
       "0  5524        1957  Graduation         Single  58138.0        0         0   \n",
       "1  2174        1954  Graduation         Single  46344.0        1         1   \n",
       "2  4141        1965  Graduation       Together  71613.0        0         0   \n",
       "3  6182        1984  Graduation       Together  26646.0        1         0   \n",
       "4  5324        1981         PhD        Married  58293.0        1         0   \n",
       "\n",
       "  Dt_Customer  Recency  MntWines  ...  NumWebVisitsMonth  AcceptedCmp3  \\\n",
       "0  2012-09-04       58       635  ...                  7             0   \n",
       "1  2014-03-08       38        11  ...                  5             0   \n",
       "2  2013-08-21       26       426  ...                  4             0   \n",
       "3  2014-02-10       26        11  ...                  6             0   \n",
       "4  2014-01-19       94       173  ...                  5             0   \n",
       "\n",
       "   AcceptedCmp4  AcceptedCmp5  AcceptedCmp1  AcceptedCmp2  Complain  \\\n",
       "0             0             0             0             0         0   \n",
       "1             0             0             0             0         0   \n",
       "2             0             0             0             0         0   \n",
       "3             0             0             0             0         0   \n",
       "4             0             0             0             0         0   \n",
       "\n",
       "   Z_CostContact  Z_Revenue  Response  \n",
       "0              3         11         1  \n",
       "1              3         11         0  \n",
       "2              3         11         0  \n",
       "3              3         11         0  \n",
       "4              3         11         0  \n",
       "\n",
       "[5 rows x 29 columns]"
      ]
     },
     "execution_count": 3,
     "metadata": {},
     "output_type": "execute_result"
    }
   ],
   "source": [
    "## 'Marketing_campaign' 데이터의 위치를 불러와 저장합니다.\n",
    "\n",
    "data = pd.read_csv('marketing_campaign.csv',\n",
    "                   sep = ';')\n",
    "data.head()"
   ]
  },
  {
   "cell_type": "markdown",
   "metadata": {
    "id": "N9QSTEvPRK-t"
   },
   "source": [
    "### 데이터 전처리"
   ]
  },
  {
   "cell_type": "code",
   "execution_count": 4,
   "metadata": {
    "id": "y84-iEHeLRsY"
   },
   "outputs": [
    {
     "data": {
      "text/plain": [
       "0    3813\n",
       "1    3263\n",
       "2    3462\n",
       "3    3289\n",
       "4    3311\n",
       "Name: days, dtype: int32"
      ]
     },
     "execution_count": 4,
     "metadata": {},
     "output_type": "execute_result"
    }
   ],
   "source": [
    "## 등록한 이후에 현재까지의 기간(회원 일수)를 'days'라는 변수로 저장.\n",
    "from datetime import datetime\n",
    "y = pd.to_datetime(datetime.today().strftime(\"%Y-%m-%d\"))\n",
    "\n",
    "data.Dt_Customer = pd.to_datetime(data.Dt_Customer)\n",
    "data['days'] = y - data.Dt_Customer\n",
    "data['days'] = data['days'] / np.timedelta64(1, 'D')\n",
    "data['days'] = data['days'].astype('int')\n",
    "data['days'][:5]"
   ]
  },
  {
   "cell_type": "code",
   "execution_count": 10,
   "metadata": {
    "id": "uNjip3heP_8V"
   },
   "outputs": [],
   "source": [
    "## 나이를 age에 저장\n",
    "\n",
    "data['age'] = 2024 - data['Year_Birth']"
   ]
  },
  {
   "cell_type": "code",
   "execution_count": 6,
   "metadata": {
    "id": "mFGUXheeRyRr"
   },
   "outputs": [],
   "source": [
    "## 마케팅 캠페인에서의 총 참여 횟수\n",
    "\n",
    "data['CampaignAttendance'] = data.iloc[:,20:25].sum(axis = 1)\n",
    "\n",
    "## 이 데이터랑 군집화 결과가 얼마나 유사하게, 또는 다르게 나오는지 비교해봅시다~!!"
   ]
  },
  {
   "cell_type": "code",
   "execution_count": 8,
   "metadata": {
    "id": "GTOPK6rWTUj4"
   },
   "outputs": [],
   "source": [
    "data.columns\n",
    "\n",
    "features = ['days', 'age', 'Income', 'Recency', 'MntWines', 'MntFruits',\\\n",
    "                     'MntMeatProducts', 'MntFishProducts', 'MntSweetProducts',\\\n",
    "                     'MntGoldProds', 'NumDealsPurchases','NumWebPurchases', \\\n",
    "                     'NumCatalogPurchases', 'NumStorePurchases', 'NumWebVisitsMonth',\\\n",
    "                    'AcceptedCmp3', 'AcceptedCmp4', 'AcceptedCmp5', 'AcceptedCmp1',\\\n",
    "                    'AcceptedCmp2', 'Complain', 'Z_CostContact', 'Z_Revenue', 'Response','CampaignAttendance'] #우리가 고려할 변수들"
   ]
  },
  {
   "cell_type": "code",
   "execution_count": 11,
   "metadata": {
    "id": "EjWWJ0NDT_EN"
   },
   "outputs": [],
   "source": [
    "X_features = data[features]\n",
    "X_features = X_features.dropna().reset_index(drop = True) #결측치 제거\n",
    "\n",
    "y_label = X_features['CampaignAttendance'] #캠페인에서의 총 참여 횟수를 임의의 라벨값으로 설정 -> 기준으로 삼아보자.\n",
    "\n",
    "X_features = X_features.drop(['CampaignAttendance'], axis = 1)"
   ]
  },
  {
   "cell_type": "code",
   "execution_count": 12,
   "metadata": {
    "id": "F5ZEd_GfLFdx"
   },
   "outputs": [],
   "source": [
    "## 각 변수들을 '표준화' scaling 합니다.\n",
    "from sklearn.preprocessing import StandardScaler\n",
    "scaler = StandardScaler()\n",
    "X_features_scaling  = scaler.fit_transform(X_features)\n",
    "\n",
    "X_features_scaling = pd.DataFrame(X_features_scaling, columns = X_features.columns, index = list(X_features.index.values))"
   ]
  },
  {
   "cell_type": "markdown",
   "metadata": {
    "id": "hSweBGWmgDTy"
   },
   "source": [
    "### 차원 축소"
   ]
  },
  {
   "cell_type": "markdown",
   "metadata": {
    "id": "GqDgcjqM2mrQ"
   },
   "source": [
    "데이터를 차원 축소 해봅시다."
   ]
  },
  {
   "cell_type": "code",
   "execution_count": 15,
   "metadata": {
    "id": "Fu0ayAvrYeC1"
   },
   "outputs": [],
   "source": [
    "from sklearn.discriminant_analysis import LinearDiscriminantAnalysis\n",
    "\n",
    "## LDA\n",
    "lda = LinearDiscriminantAnalysis(n_components = 2)\n",
    "X_train_lda = lda.fit_transform(X_features_scaling, y_label) #차원축소 과정에 y 라벨값을 입력해줌"
   ]
  },
  {
   "cell_type": "code",
   "execution_count": 16,
   "metadata": {
    "id": "eS_siPJ1YoXr"
   },
   "outputs": [
    {
     "data": {
      "image/png": "[encoded data removed]",
      "text/plain": [
       "<Figure size 402.375x360 with 1 Axes>"
      ]
     },
     "metadata": {
      "needs_background": "light"
     },
     "output_type": "display_data"
    }
   ],
   "source": [
    "X_train_lda = pd.DataFrame(X_train_lda).loc[:, 0:1]\n",
    "X_train_lda = pd.concat((X_train_lda, y_label), axis = 1) #X_train_Ida와 y_label 데이터를 하나로 합치기\n",
    "X_train_lda.columns = ['lda_1', 'lda_2', 'label']\n",
    "X_train_lda\n",
    "\n",
    "sns.lmplot(x = 'lda_1',y = 'lda_2',data = X_train_lda, hue = 'label', fit_reg = False)\n",
    "plt.show()\n",
    "\n",
    "## 우리가 원하는 정답 모양\n",
    "## 캠페인 참여에서의 총 참여 횟수를 라벨값으로 둔 상태에서의 데이터 분포도"
   ]
  },
  {
   "cell_type": "markdown",
   "metadata": {
    "id": "mlmCquwTgNBF"
   },
   "source": [
    "### K-means Clustering"
   ]
  },
  {
   "cell_type": "markdown",
   "metadata": {
    "id": "lY9vjJLvmtSv"
   },
   "source": [
    "클러스터링을 돌려 보는 데에 의의가 있기에, 파라미터 값 최적화보다는 각 알고리즘을 사용하면 결과가 어떻게 달라지는 지에 초점을 맞추어 살펴봅니다. 여러 번 시행해보면서 **자유롭게 파라미터를 정해주세요**."
   ]
  },
  {
   "cell_type": "markdown",
   "metadata": {
    "id": "UWBpYVvn6Y9-"
   },
   "source": [
    "**(직접 최적의 파라미터 값을 찾아서 설정하고 싶으시다면 훨씬 좋습니다! 해당 과제의 모든 코드는 기본 뼈대일 뿐입니다. 코드를 추가 또는 변경하셔도 좋습니다.)**"
   ]
  },
  {
   "cell_type": "markdown",
   "metadata": {
    "id": "0NFbMzot24go"
   },
   "source": [
    "다른 x값들에 대해서도 캠페인 참여도, 즉 고객의 충실도를 잘 군집화할 수 있을까요? 클러스터링으로 결과를 확인해봅시다."
   ]
  },
  {
   "cell_type": "markdown",
   "metadata": {
    "id": "M6Bnqr3WgOH_"
   },
   "source": [
    "\n",
    "\n",
    "---\n",
    "\n",
    "\n",
    "\n"
   ]
  },
  {
   "cell_type": "markdown",
   "metadata": {
    "id": "TfuCCGgioEbh"
   },
   "source": [
    "K-means를 이용하여 클러스터링 해봅시다."
   ]
  },
  {
   "cell_type": "code",
   "execution_count": 17,
   "metadata": {
    "id": "T5c5byPLnB5e"
   },
   "outputs": [],
   "source": [
    "## 필요한 라이브러리를 임포트합니다.\n",
    "\n",
    "from sklearn.cluster import KMeans"
   ]
  },
  {
   "cell_type": "code",
   "execution_count": 18,
   "metadata": {},
   "outputs": [
    {
     "data": {
      "image/png": "[encoded data removed]",
      "text/plain": [
       "<Figure size 576x396 with 1 Axes>"
      ]
     },
     "metadata": {},
     "output_type": "display_data"
    },
    {
     "data": {
      "text/plain": [
       "<AxesSubplot:title={'center':'Silhouette Score Elbow for KMeans Clustering'}, xlabel='k', ylabel='silhouette score'>"
      ]
     },
     "execution_count": 18,
     "metadata": {},
     "output_type": "execute_result"
    }
   ],
   "source": [
    "from yellowbrick.cluster import KElbowVisualizer \n",
    "\n",
    "model = KMeans()\n",
    "\n",
    "elbowvisualizer = KElbowVisualizer(model, k = (2,10), metric = 'silhouette', timings = False)\n",
    "\n",
    "elbowvisualizer.fit(X_features_scaling)  \n",
    "elbowvisualizer.show()"
   ]
  },
  {
   "cell_type": "code",
   "execution_count": 60,
   "metadata": {
    "colab": {
     "base_uri": "https://localhost:8080/"
    },
    "id": "e66J9Orqaxdz",
    "outputId": "7c5827ca-a762-4c4f-964e-ae319797709e"
   },
   "outputs": [
    {
     "data": {
      "text/plain": [
       "array([2, 1, 2, ..., 4, 2, 1])"
      ]
     },
     "execution_count": 60,
     "metadata": {},
     "output_type": "execute_result"
    }
   ],
   "source": [
    "## 클러스터 수는 ########(숫자)########로 설정하고, KMeans를 활용하여 예측된 y값을 만들어 봅시다.\n",
    "\n",
    "km = KMeans(n_clusters = 5)\n",
    "\n",
    "y_km = km.fit_predict(X_features_scaling)\n",
    "y_km"
   ]
  },
  {
   "cell_type": "code",
   "execution_count": 61,
   "metadata": {
    "id": "Xalob8AybpqS"
   },
   "outputs": [],
   "source": [
    "X_train_lda['K_means'] = y_km"
   ]
  },
  {
   "cell_type": "markdown",
   "metadata": {
    "id": "IpNZtoEJns4f"
   },
   "source": [
    "####시각화"
   ]
  },
  {
   "cell_type": "code",
   "execution_count": 62,
   "metadata": {
    "id": "gMDG4QTFbkjJ"
   },
   "outputs": [
    {
     "data": {
      "image/png": "[encoded data removed]",
      "text/plain": [
       "<Figure size 418.625x360 with 1 Axes>"
      ]
     },
     "metadata": {},
     "output_type": "display_data"
    }
   ],
   "source": [
    "sns.lmplot(x = 'lda_1', y = 'lda_2', data = X_train_lda, hue = 'K_means', fit_reg = False)\n",
    "plt.title('K-means Clustering Result')\n",
    "plt.show()"
   ]
  },
  {
   "cell_type": "markdown",
   "metadata": {
    "id": "D2pTwOUfn62c"
   },
   "source": [
    "###Hierarchical Clustering"
   ]
  },
  {
   "cell_type": "markdown",
   "metadata": {
    "id": "Ezn3DNWVn-Gx"
   },
   "source": [
    "Agglomerative 방법을 이용하여 클러스터링 해봅시다."
   ]
  },
  {
   "cell_type": "code",
   "execution_count": 22,
   "metadata": {
    "id": "GbahvycYcTnC"
   },
   "outputs": [],
   "source": [
    "## 필요한 라이브러리를 임포트합니다.\n",
    "\n",
    "from sklearn.cluster import AgglomerativeClustering"
   ]
  },
  {
   "cell_type": "code",
   "execution_count": 23,
   "metadata": {
    "colab": {
     "base_uri": "https://localhost:8080/"
    },
    "id": "Jm_odYfKoQOD",
    "outputId": "0527cd6f-d1f5-4593-b3b2-d5571069df0d"
   },
   "outputs": [
    {
     "data": {
      "text/plain": [
       "array([2, 3, 2, ..., 1, 2, 1], dtype=int64)"
      ]
     },
     "execution_count": 23,
     "metadata": {},
     "output_type": "execute_result"
    }
   ],
   "source": [
    "## 클러스터 수는 ########(숫자)########로 설정하고, Agglomerative를 활용하여 예측된 y값을 만들어 봅시다.\n",
    "\n",
    "agghc = AgglomerativeClustering(n_clusters = 5, affinity = 'euclidean', linkage = 'ward') #와드연결법을 사용합니다.\n",
    "\n",
    "y_agghc = agghc.fit_predict(X_features_scaling)\n",
    "y_agghc"
   ]
  },
  {
   "cell_type": "code",
   "execution_count": 24,
   "metadata": {
    "id": "JmPjxgKJodsz"
   },
   "outputs": [],
   "source": [
    "X_train_lda['hierarchical'] = y_agghc"
   ]
  },
  {
   "cell_type": "markdown",
   "metadata": {
    "id": "wtjDpfrN3ZE1"
   },
   "source": [
    "####시각화"
   ]
  },
  {
   "cell_type": "code",
   "execution_count": 25,
   "metadata": {
    "id": "Kc_5HVs9cna3"
   },
   "outputs": [
    {
     "data": {
      "image/png": "[encoded data removed]",
      "text/plain": [
       "<Figure size 429.125x360 with 1 Axes>"
      ]
     },
     "metadata": {},
     "output_type": "display_data"
    }
   ],
   "source": [
    "sns.lmplot(x = 'lda_1', y = 'lda_2', data = X_train_lda, hue = 'hierarchical', fit_reg = False)\n",
    "plt.title('Hierarchical Clustering Result')\n",
    "plt.show()"
   ]
  },
  {
   "cell_type": "markdown",
   "metadata": {
    "id": "ZZ4kBn15o0Ln"
   },
   "source": [
    "###DBSCAN"
   ]
  },
  {
   "cell_type": "markdown",
   "metadata": {
    "id": "XqccBOmdo2NX"
   },
   "source": [
    "DBSCAN을 이용하여 클러스터링 해봅시다."
   ]
  },
  {
   "cell_type": "code",
   "execution_count": 26,
   "metadata": {
    "id": "RHb-CAXDcrBh"
   },
   "outputs": [],
   "source": [
    "## 필요한 라이브러리를 임포트합니다.\n",
    "\n",
    "from sklearn.cluster import DBSCAN"
   ]
  },
  {
   "cell_type": "code",
   "execution_count": 33,
   "metadata": {},
   "outputs": [
    {
     "data": {
      "text/plain": [
       "(2216, 4)"
      ]
     },
     "execution_count": 33,
     "metadata": {},
     "output_type": "execute_result"
    }
   ],
   "source": [
    "indices.shape"
   ]
  },
  {
   "cell_type": "code",
   "execution_count": 84,
   "metadata": {},
   "outputs": [
    {
     "data": {
      "text/plain": [
       "[<matplotlib.lines.Line2D at 0x220a76dbf70>]"
      ]
     },
     "execution_count": 84,
     "metadata": {},
     "output_type": "execute_result"
    },
    {
     "data": {
      "image/png": "[encoded data removed]",
      "text/plain": [
       "<Figure size 576x396 with 1 Axes>"
      ]
     },
     "metadata": {},
     "output_type": "display_data"
    }
   ],
   "source": [
    "import sklearn.utils\n",
    "import sklearn.neighbors\n",
    "from sklearn.neighbors import NearestNeighbors\n",
    "\n",
    "nb = NearestNeighbors(n_neighbors = 5).fit(X_features_scaling)\n",
    "minPts = 4\n",
    "distances, indices = nb.kneighbors(X_features_scaling)\n",
    "distance = sorted(distances[:, minPts - 1], reverse = True)\n",
    "\n",
    "plt.plot(list(range(1,201)), distance[1:201])"
   ]
  },
  {
   "cell_type": "code",
   "execution_count": 94,
   "metadata": {
    "id": "b9tu38-Fo98h"
   },
   "outputs": [
    {
     "data": {
      "text/plain": [
       "array([0, 0, 0, ..., 0, 0, 0], dtype=int64)"
      ]
     },
     "execution_count": 94,
     "metadata": {},
     "output_type": "execute_result"
    }
   ],
   "source": [
    "dbscan = DBSCAN(eps = 5.8, min_samples = 3, metric = 'euclidean').fit(X_features_scaling)\n",
    "\n",
    "y_dbscan = dbscan.labels_\n",
    "y_dbscan"
   ]
  },
  {
   "cell_type": "code",
   "execution_count": 95,
   "metadata": {},
   "outputs": [
    {
     "data": {
      "text/plain": [
       "5"
      ]
     },
     "execution_count": 95,
     "metadata": {},
     "output_type": "execute_result"
    }
   ],
   "source": [
    "cluster_db = len(set(dbscan.labels_)) - (1 if -1 in dbscan.labels_ else 0)\n",
    "cluster_db"
   ]
  },
  {
   "cell_type": "code",
   "execution_count": 96,
   "metadata": {
    "id": "1xVqMxMtqK_r"
   },
   "outputs": [],
   "source": [
    "X_train_lda['dbscan'] = y_dbscan"
   ]
  },
  {
   "cell_type": "markdown",
   "metadata": {
    "id": "3Rf8Hy_n3aEu"
   },
   "source": [
    "####시각화"
   ]
  },
  {
   "cell_type": "code",
   "execution_count": 97,
   "metadata": {
    "id": "z7xQlZz-dL9K"
   },
   "outputs": [
    {
     "data": {
      "image/png": "[encoded data removed]",
      "text/plain": [
       "<Figure size 406.5x360 with 1 Axes>"
      ]
     },
     "metadata": {},
     "output_type": "display_data"
    }
   ],
   "source": [
    "sns.lmplot(x = 'lda_1', y = 'lda_2', data = X_train_lda, hue = 'dbscan', fit_reg = False)\n",
    "plt.show()"
   ]
  },
  {
   "cell_type": "markdown",
   "metadata": {
    "id": "HJpetyIbiEoy"
   },
   "source": [
    "### Validation"
   ]
  },
  {
   "cell_type": "markdown",
   "metadata": {
    "id": "CNaob-PWiI9e"
   },
   "source": [
    "실루엣 계수를 사용하여 각 클러스터링의 성능을 평가해봅시다."
   ]
  },
  {
   "cell_type": "markdown",
   "metadata": {
    "id": "n8o06Vu4irOF"
   },
   "source": [
    "\n",
    "\n",
    "---\n",
    "\n"
   ]
  },
  {
   "cell_type": "markdown",
   "metadata": {
    "id": "r9KRTq-biRY3"
   },
   "source": [
    "(Q) 실루엣 계수로 평가하기 전에, 육안 상으로 어떠한 알고리즘의 성능이 제일 높아 보이며 어떠한 알고리즘의 성능이 제일 낮아 보이는지 의견을 적어주세요."
   ]
  },
  {
   "cell_type": "markdown",
   "metadata": {
    "id": "Rv3V8sfuihsF"
   },
   "source": [
    "> Agglomerative clustering의 성능이 우수하고, DBSCAN의 성능이 낮게 나타납니다."
   ]
  },
  {
   "cell_type": "markdown",
   "metadata": {
    "id": "R_QgoTfIisvg"
   },
   "source": [
    "\n",
    "\n",
    "---\n",
    "\n"
   ]
  },
  {
   "cell_type": "markdown",
   "metadata": {
    "id": "Jv4WfZO4iuVF"
   },
   "source": [
    "이제 실루엣 계수로 성능을 평가해 봅시다!"
   ]
  },
  {
   "cell_type": "code",
   "execution_count": 71,
   "metadata": {
    "id": "fULi7pCudtHs"
   },
   "outputs": [],
   "source": [
    "## 필요한 라이브러리를 임포트합니다.\n",
    "\n",
    "import sklearn.metrics as metrics\n",
    "from sklearn.metrics.cluster import silhouette_score"
   ]
  },
  {
   "cell_type": "markdown",
   "metadata": {
    "id": "5bAQ6CyW6Uth"
   },
   "source": [
    "K-means Clustering의 실루엣 계수입니다."
   ]
  },
  {
   "cell_type": "code",
   "execution_count": 72,
   "metadata": {
    "colab": {
     "base_uri": "https://localhost:8080/"
    },
    "id": "KDKJhjx6ojLj",
    "outputId": "eb814db8-a503-4b17-ef5f-c9b0734b2d38"
   },
   "outputs": [
    {
     "name": "stdout",
     "output_type": "stream",
     "text": [
      "Silhouette score is 0.19950834909456755.\n"
     ]
    }
   ],
   "source": [
    "coef_km = metrics.silhouette_score(X_features_scaling, y_km)\n",
    "print('Silhouette score is {}.'.format(coef_km))"
   ]
  },
  {
   "cell_type": "markdown",
   "metadata": {
    "id": "WdNkPAm76eq9"
   },
   "source": [
    "Hierarchical Clustering의 실루엣 계수입니다."
   ]
  },
  {
   "cell_type": "code",
   "execution_count": 74,
   "metadata": {
    "colab": {
     "base_uri": "https://localhost:8080/"
    },
    "id": "x1jUkQM_pbMk",
    "outputId": "a5177f8a-0084-4115-e718-e9416a2e78a9"
   },
   "outputs": [
    {
     "name": "stdout",
     "output_type": "stream",
     "text": [
      "Silhouette score is 0.17393367899599174.\n"
     ]
    }
   ],
   "source": [
    "## Hierarchical Clustering\n",
    "\n",
    "coef_hc = metrics.silhouette_score(X_features_scaling, y_agghc)\n",
    "print('Silhouette score is {}.'.format(coef_hc))"
   ]
  },
  {
   "cell_type": "markdown",
   "metadata": {
    "id": "4m7AX0LL6iV-"
   },
   "source": [
    "DBSCAN의 실루엣 계수입니다."
   ]
  },
  {
   "cell_type": "code",
   "execution_count": 98,
   "metadata": {
    "colab": {
     "base_uri": "https://localhost:8080/"
    },
    "id": "vppodq1EqLbA",
    "outputId": "b17b2629-ee7e-4b21-a051-680bc40e6880"
   },
   "outputs": [
    {
     "name": "stdout",
     "output_type": "stream",
     "text": [
      "Silhouette score is 0.42757324175882544.\n"
     ]
    }
   ],
   "source": [
    "## DBSCAN\n",
    "\n",
    "coef_db = metrics.silhouette_score(X_features_scaling, y_dbscan)\n",
    "print('Silhouette score is {}.'.format(coef_db))"
   ]
  },
  {
   "cell_type": "markdown",
   "metadata": {
    "id": "4Aef3wru4ycD"
   },
   "source": [
    "(Q) 실루엣 계수를 기반으로, 클러스터링 알고리즘의 성능을 높은 순대로 적어주세요."
   ]
  },
  {
   "cell_type": "markdown",
   "metadata": {
    "id": "-95mdNXC4coe"
   },
   "source": [
    "DBSCAN > K-means > Hierarchical"
   ]
  },
  {
   "cell_type": "markdown",
   "metadata": {
    "id": "TrYTuEi34lG7"
   },
   "source": [
    "(Q) 클러스터링 결과에 대한 해석을 적어주세요. (참고로, 실루엣 계수는 -1에서 1 사이의 값을 가집니다.)"
   ]
  },
  {
   "cell_type": "markdown",
   "metadata": {
    "id": "YIoqd0OZ4tLF"
   },
   "source": [
    "DBSCAN의 실루엣 계수가 높게 나온 이유는, 밀집도가 높은 데이터를 0으로 레이블링했고, 나머지의 오차는 높지만 레이블 0의 정확도는 높아 실루엣 계수가 높게 나왔습니다. 위와 같은 문제를 해결하기 위해서는 실루엣 계수만 가지고 클러스터링을 판단하기 보다는 시각화로부터 나온 직관의 결과도 중요하다는 경험을 얻었습니다."
   ]
  },
  {
   "cell_type": "markdown",
   "metadata": {
    "id": "9m2Rvla1fgj1"
   },
   "source": [
    "(Q) 마케팅 캠페인과 관련하여 도출할 수 있는 인사이트를 적어주세요."
   ]
  },
  {
   "cell_type": "markdown",
   "metadata": {},
   "source": [
    "고객의 개인 정보로부터 총 마케팅 캠페인 참여 횟수 의미 도출은 어려워 보입니다. <br>\n",
    "하지만, 개별 마케팅 캠페인으로 세부적으로 나눈 다음 각 주제에 따른 데이터 전처리를 진행한다면 <br>\n",
    "더 유의미한 클러스터링 결과를 도출해 낼 수 있을 거라고 생각합니다."
   ]
  },
  {
   "cell_type": "code",
   "execution_count": null,
   "metadata": {},
   "outputs": [],
   "source": []
  }
 ],
 "metadata": {
  "colab": {
   "provenance": []
  },
  "kernelspec": {
   "display_name": "Python 3 (ipykernel)",
   "language": "python",
   "name": "python3"
  },
  "language_info": {
   "codemirror_mode": {
    "name": "ipython",
    "version": 3
   },
   "file_extension": ".py",
   "mimetype": "text/x-python",
   "name": "python",
   "nbconvert_exporter": "python",
   "pygments_lexer": "ipython3",
   "version": "3.9.12"
  }
 },
 "nbformat": 4,
 "nbformat_minor": 1
}
