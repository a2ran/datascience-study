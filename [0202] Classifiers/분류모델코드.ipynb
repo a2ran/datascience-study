{
 "cells": [
  {
   "cell_type": "code",
   "execution_count": null,
   "id": "cd48db74",
   "metadata": {},
   "outputs": [],
   "source": [
    "from sklearn.model_selection import GridSearchCV"
   ]
  },
  {
   "cell_type": "code",
   "execution_count": null,
   "id": "0c061e68",
   "metadata": {},
   "outputs": [],
   "source": [
    "# 분류 평가함수\n",
    "\n",
    "from sklearn.metrics import accuracy_score, f1_score, precision_score, recall_score"
   ]
  },
  {
   "cell_type": "markdown",
   "id": "c1271840",
   "metadata": {},
   "source": [
    "# 1. Logistic Regression"
   ]
  },
  {
   "cell_type": "code",
   "execution_count": null,
   "id": "c1043170",
   "metadata": {},
   "outputs": [],
   "source": [
    "from sklearn.linear_model import LogisticRegression\n",
    "\n",
    "lr = LogisticRegression()\n",
    "lr.fit(train_X, train_y)\n",
    "\n",
    "parameters = {'C' : [0.01, 0.1, 1, 10],\n",
    "             'random_state' : [1]}\n",
    "\n",
    "model_lr = GridSearchCV(estimator = lr, param_grid = parameters,\n",
    "                       scoring = 'f1', cv = 10, refit = True)\n",
    "model_lr.fit(train_X, train_y)"
   ]
  },
  {
   "cell_type": "markdown",
   "id": "5144f64e",
   "metadata": {},
   "source": [
    "# 2. Support Vector Machine"
   ]
  },
  {
   "cell_type": "code",
   "execution_count": null,
   "id": "c11e2571",
   "metadata": {},
   "outputs": [],
   "source": [
    "from sklearn.linear_model import SVC\n",
    "\n",
    "svm = SVC()\n",
    "svm.fit(train_X, train_y)\n",
    "\n",
    "parameters = {'kernel' : ['rbf', 'linear', 'poly'],\n",
    "             'C' : [0.5, 1.5, 10],\n",
    "             'random_state' : [1]}\n",
    "\n",
    "model_svm = GridSearchCV(estimator = model_svm, param_grid = parameters,\n",
    "                        scoring = 'recall', cv = 10, refit = True)\n",
    "model_svm.fit(train_X, train_y)"
   ]
  },
  {
   "cell_type": "markdown",
   "id": "85ff68f5",
   "metadata": {},
   "source": [
    "# 3. DecisionTreeClassifier"
   ]
  },
  {
   "cell_type": "code",
   "execution_count": null,
   "id": "29533d0d",
   "metadata": {},
   "outputs": [],
   "source": [
    "from sklearn.tree import DecisionTreeClassifier\n",
    "\n",
    "# 모델 객체 선언\n",
    "clf_tree = DecisionTreeClassifier() # 분류모델\n",
    "\n",
    "# train 데이터에 대해서 학습진행\n",
    "clf_tree.fit(train_X, train_y)\n",
    "\n",
    "# HyperParameter 후보군; 딕셔너리 형태로 저장\n",
    "parameters={'criterion':['gini', 'entropy'],\n",
    "            'max_depth':[5,10,15,20,None]}\n",
    "\n",
    "# HyperParameter를 Tuning\n",
    "model_dt=GridSearchCV(estimator=clf_tree, param_grid=parameters,\n",
    "                     scoring='f1', cv=10, refit=True)\n",
    "\n",
    "model_dt.fit(train_X,train_y)"
   ]
  },
  {
   "cell_type": "markdown",
   "id": "3d682fd5",
   "metadata": {},
   "source": [
    "# 4. RandomForestClassifier"
   ]
  },
  {
   "cell_type": "code",
   "execution_count": null,
   "id": "40a285a8",
   "metadata": {},
   "outputs": [],
   "source": [
    "randomforest=RandomForestClassifier() # 분류모델\n",
    "\n",
    "# train 데이터에 대해서 학습진행\n",
    "randomforest.fit(train_X, train_y)\n",
    "\n",
    "# HyperParameter 후보군\n",
    "parameters = {'max_depth' : [3, 5, 10],\n",
    "             'n_estimators' : [100, 200, 300],\n",
    "             'random_state' : 1}\n",
    "\n",
    "# HyperParameter를 Tuning\n",
    "model_rfc=GridSearchCV(estimator = randomforest, param_grid = parameters,\n",
    "                      scoring = 'f1', cv = 10, refit = True)\n",
    "\n",
    "model_rfc.fit(train_X,train_y)"
   ]
  },
  {
   "cell_type": "markdown",
   "id": "d684a2b3",
   "metadata": {},
   "source": [
    "# 5. XGBClassifier"
   ]
  },
  {
   "cell_type": "code",
   "execution_count": null,
   "id": "6d2603f5",
   "metadata": {},
   "outputs": [],
   "source": [
    "from xgboost import XGBClassifier # sklearn 라이브러리에서 가져오는게 아니다.\n",
    "\n",
    "# 객체 선언\n",
    "xgboost=XGBClassifier() # 분류모델\n",
    "\n",
    "xgboost.fit(train_X, train_y)\n",
    "\n",
    "parameters = {'max_depth' : [3, 5, 10],\n",
    "             'n_estimators' : [100, 200, 300],\n",
    "             'learning_rate' : [0.001, 0.01, 0.1, 1],\n",
    "             'gamma' : [0.5, 1, 2],\n",
    "             'random_state' : [1]}\n",
    "\n",
    "model_xgb = GridSearchCV(estimator = xgboost, param_grid = parameters,\n",
    "                        scoring = 'f1', cv = 10, refit = True)\n",
    "\n",
    "model_xgb.fit(train_X, train_y)"
   ]
  },
  {
   "cell_type": "markdown",
   "id": "443b5932",
   "metadata": {},
   "source": [
    "# 6. LGBMClassifier"
   ]
  },
  {
   "cell_type": "code",
   "execution_count": null,
   "id": "ed696d0a",
   "metadata": {},
   "outputs": [],
   "source": [
    "from lightgbm import LGBMClassifier # sklearn 라이브러리에서 가져오는게 아니다.\n",
    "\n",
    "# 객체 선언\n",
    "lightgbm=LGBMClassifier() # 회귀모델\n",
    "\n",
    "lightgbm.fit(train_X, train_y)\n",
    "\n",
    "parameters = {'max_depth' : [3, 5, 10],\n",
    "             'n_estimators' : [100, 200, 300],\n",
    "             'learning_rate' : [0.001, 0.01, 0.1, 1],\n",
    "             'random_state' : [1]}\n",
    "\n",
    "model_lgb = GridSearchCV(estimator = lightgbm, param_grid = parameters,\n",
    "                        scoring = 'f1', cv = 10, refit = True)\n",
    "\n",
    "model_lgb.fit(train_X, train_y)"
   ]
  },
  {
   "cell_type": "markdown",
   "id": "b0a1ce01",
   "metadata": {},
   "source": [
    "# 7. 모델 평가"
   ]
  },
  {
   "cell_type": "code",
   "execution_count": null,
   "id": "1d361cfa",
   "metadata": {},
   "outputs": [],
   "source": [
    "print(\"DecisionTree model : {:.3f}\".format(f1_score(train_y, model_dt.predict(train_X))))\n",
    "print(\"RandomForest model : {:.3f}\".format(f1_score(train_y, model_rfc.predict(train_X))))\n",
    "print(\"XGBoost model : {:.3f}\".format(f1_score(train_y, model_xgb.predict(train_X))))\n",
    "print(\"LightGBM model : {:.3f}\".format(f1_score(train_y, model_lgb.predict(train_X))))"
   ]
  },
  {
   "cell_type": "code",
   "execution_count": null,
   "id": "eeace485",
   "metadata": {},
   "outputs": [],
   "source": [
    "print(\"DecisionTree model : {:.3f}\".format(model_dt.best_score_))\n",
    "print(\"RandomForest model : {:.3f}\".format(model_rfc.best_score_))\n",
    "print(\"XGBoost model : {:.3f}\".format(model_xgb.best_score_))\n",
    "print(\"LightGBM model : {:.3f}\".format(model_lgb.best_score_))"
   ]
  },
  {
   "cell_type": "code",
   "execution_count": null,
   "id": "10549e13",
   "metadata": {},
   "outputs": [],
   "source": [
    "print(\"DecisionTree model : {:.3f}\".format(precision_score(test_y, model_dt.predict(test_X))))\n",
    "print(\"RandomForest model : {:.3f}\".format(precision_score(test_y, model_rfc.predict(test_X))))\n",
    "print(\"XGBoost model : {:.3f}\".format(precision_score(test_y, model_xgb.predict(test_X))))\n",
    "print(\"LightGBM model : {:.3f}\".format(precision_score(test_y, model_lgb.predict(test_X))))"
   ]
  }
 ],
 "metadata": {
  "kernelspec": {
   "display_name": "Python 3 (ipykernel)",
   "language": "python",
   "name": "python3"
  },
  "language_info": {
   "codemirror_mode": {
    "name": "ipython",
    "version": 3
   },
   "file_extension": ".py",
   "mimetype": "text/x-python",
   "name": "python",
   "nbconvert_exporter": "python",
   "pygments_lexer": "ipython3",
   "version": "3.9.12"
  }
 },
 "nbformat": 4,
 "nbformat_minor": 5
}
