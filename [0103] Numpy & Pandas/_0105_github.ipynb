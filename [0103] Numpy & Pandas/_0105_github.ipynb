{
 "cells": [
  {
   "cell_type": "markdown",
   "id": "e608a48e",
   "metadata": {},
   "source": [
    "[basics] Numpy & Pandas\n",
    "\n",
    "> Essential Numpy and Pandas syntax"
   ]
  },
  {
   "cell_type": "markdown",
   "id": "64157a7b",
   "metadata": {},
   "source": [
    "```python\n",
    "import numpy as np\n",
    "import pandas as pd\n",
    "```"
   ]
  },
  {
   "cell_type": "markdown",
   "id": "290be3b9",
   "metadata": {},
   "source": [
    "# <span style = \"color : skyblue\"> numpy </span>\n",
    "\n",
    "basic numpy library syntax on python"
   ]
  },
  {
   "cell_type": "markdown",
   "id": "178d146c",
   "metadata": {},
   "source": [
    "## <span style = \"color : blue\">Array:</span>\n",
    "- All elements require same data types.\n",
    "  - \\# of elements in the internal array must be equal\n",
    "    - Array performs operation between elements\n",
    "    \n",
    "```python\n",
    "print(np.array([1, 3, 5, 'a', 'b'])) # all elements are changed into str\n",
    "['1' '3' '5' 'a' 'b']\n",
    "```\n",
    "\n",
    "<br>\n",
    "\n",
    "```python\n",
    "print(np.array([[1], [3, 5], [2, 4, 6]])) # cannot perform\n",
    "```\n",
    "\n",
    "<br>\n",
    "\n",
    "```python\n",
    "a1 = np.array([1,2,3,4,5]).reshape(5,1)\n",
    "a2 = np.array([6,7,8,9,10])\n",
    "print(a1 + a2) # broadcasting\n",
    "[[ 7  8  9 10 11]\n",
    " [ 8  9 10 11 12]\n",
    " [ 9 10 11 12 13]\n",
    " [10 11 12 13 14]\n",
    " [11 12 13 14 15]]\n",
    "```"
   ]
  },
  {
   "cell_type": "markdown",
   "id": "c0b92a80",
   "metadata": {},
   "source": [
    "## <span style =  \"color : blue\"> Matrix </span>\n",
    "\n",
    "```python\n",
    "# numpy.full(shape, fill_value)\n",
    "np.full((3, 3), 2)\n",
    "\n",
    "array([[2, 2, 2],\n",
    "       [2, 2, 2],\n",
    "       [2, 2, 2]])\n",
    "```\n",
    "<br>\n",
    "\n",
    "```python\n",
    "# np.linspace(start, end, num = number,endpoint = True)\n",
    "np.linspace(0, 2, 5)\n",
    "\n",
    "array([0. , 0.5, 1. , 1.5, 2. ])\n",
    "```\n",
    "<br>\n",
    "\n",
    "```python\n",
    "# np.logspace(start, end, num = number, endpoint = True, base = 10.0, dtype = object)\n",
    "np.logspace(0, 4, 4, endpoint = False)\n",
    "\n",
    "array([   1.,   10.,  100., 1000.])\n",
    "```"
   ]
  },
  {
   "cell_type": "markdown",
   "id": "194cbba0",
   "metadata": {},
   "source": [
    "# <span style = \"color : skyblue\"> pandas </span>\n",
    "\n",
    "basic pandas library syntax on python through titanic_dataset"
   ]
  },
  {
   "cell_type": "markdown",
   "id": "bc8d6eef",
   "metadata": {},
   "source": [
    "![image]('numpy_pandas_1.png')"
   ]
  },
  {
   "cell_type": "markdown",
   "id": "6b96db30",
   "metadata": {},
   "source": [
    "## <span style = \"color : blue\"> titanic_dataset </span>\n",
    "\n",
    "```python\n",
    "# import titanic dataset\n",
    "titanic_df = pd.read_csv('/content/drive/MyDrive/Titanic.csv', index_col=0)\n",
    "```\n",
    "<br>\n",
    "\n",
    "```python\n",
    "# sums up num of NaN in each column\n",
    "titanic_df.isnull().sum()\n",
    "\n",
    "Pclass        0\n",
    "Name          0\n",
    "Sex           0\n",
    "Age          86\n",
    "SibSp         0\n",
    "Parch         0\n",
    "Ticket        0\n",
    "Fare          1\n",
    "Cabin       327\n",
    "Embarked      0\n",
    "dtype: int64\n",
    "```\n",
    "\n",
    "```python\n",
    "#df.sort_values(by, *, axis = 0, ascending = True, inplace = False)\n",
    "titanic_df.sort_values(by = ['Pclass','Age'], ascending=(False, False), inplace = False)\n",
    "```"
   ]
  },
  {
   "cell_type": "markdown",
   "id": "44319746",
   "metadata": {},
   "source": [
    "## <span style = \"color: blue\"> boolean indexing </span>\n",
    "\n",
    "```python\n",
    "# Extract desired conditions using \"loc\" to specify rows and columns\n",
    "titanic_df.loc[titanic_df['Pclass'] == 1, 'Name]\n",
    "```\n",
    "\n",
    "|**PassengerId**|Name|Pclass|\n",
    "|:---:|---|---|\n",
    "|892|Kelly, Mr. James|3|\n",
    "|893|Wilkes, Mrs. James (Ellen Needs)|3|"
   ]
  },
  {
   "cell_type": "markdown",
   "id": "805c6a4f",
   "metadata": {},
   "source": [
    "## <span style = \"color : blue\"> aggfunc </span>\n",
    "\n",
    "```python\n",
    "# groupby.agg(): group variables by set functions\n",
    "df5.groupby(['class']).agg({'score':['sum', 'min', 'max'],\n",
    "                            'exam':'count'})\n",
    "```\n",
    "                            \n",
    "|**class**|sum|min|max|count|\n",
    "|:---:|---|---|---|---|\n",
    "|1|124|10|50|4|\n",
    "|2|89|10|34|4|"
   ]
  },
  {
   "cell_type": "code",
   "execution_count": null,
   "id": "5c5d8d1d",
   "metadata": {},
   "outputs": [],
   "source": []
  }
 ],
 "metadata": {
  "kernelspec": {
   "display_name": "Python 3 (ipykernel)",
   "language": "python",
   "name": "python3"
  },
  "language_info": {
   "codemirror_mode": {
    "name": "ipython",
    "version": 3
   },
   "file_extension": ".py",
   "mimetype": "text/x-python",
   "name": "python",
   "nbconvert_exporter": "python",
   "pygments_lexer": "ipython3",
   "version": "3.9.12"
  }
 },
 "nbformat": 4,
 "nbformat_minor": 5
}
