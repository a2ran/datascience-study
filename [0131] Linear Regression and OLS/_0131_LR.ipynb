{
 "cells": [
  {
   "cell_type": "markdown",
   "id": "821fd585",
   "metadata": {},
   "source": [
    "[ML] Linear Regression and OLS\n",
    "\n",
    "Skim through fundamental machine learning concepts and mathematical implications."
   ]
  },
  {
   "cell_type": "markdown",
   "id": "568bf9c0",
   "metadata": {},
   "source": [
    "## Supervised Learning: \n",
    "\n",
    "**Supervised Learning** trains from a **labeled input data** to predict<br>\n",
    "the output data: $Y$ (Label)\n",
    "\n",
    "### Regression\n",
    "\n",
    "**Regression** explores the relationship between variables.<br>\n",
    "It predicts **continuous** outcome and data.\n",
    "\n",
    "### Classification\n",
    "\n",
    "Meanwhile, **Classification** predicts **discrete** figures from **categorical** data. <br>\n",
    "Classification is further classified into *Binary Classificaion* and *Categorical Classification*."
   ]
  },
  {
   "cell_type": "markdown",
   "id": "57a1fc76",
   "metadata": {},
   "source": [
    "## Linear Regression\n",
    "\n",
    "If a data is **supervised & continuous**, use **Regression** to predict outputs. \n",
    "\n",
    "**Linear Regression** models a **linear correlation** between<br> $X$ (Independent Variable) and $Y$ (Dependent Variable).\n",
    "\n",
    "<img src = '1.png'>\n",
    "\n",
    "$X$ $(feature)$ : Independent Variable<br>\n",
    "> **Independent Variable** affects other variables.\n",
    "\n",
    "$Y$ $(label)$ : Dependent Variable<br>\n",
    "> **Dependent Variable** is affected by other variables.\n",
    "\n"
   ]
  },
  {
   "cell_type": "markdown",
   "id": "6e804464",
   "metadata": {},
   "source": [
    "### Simple Linear Regression\n",
    "\n",
    "**Simple Linear Regression** predicts Dependent Variable from a **single** independent variable.\n",
    "\n",
    "$\\hat{y} = \\beta_0 + \\beta_1x_1$\n",
    "\n",
    "**Regression Coefficient** represents an average change of output $Y$ when input $X$ is increased by $1$.\n",
    "\n",
    "Regression Coefficient = $\\beta_0$, $\\beta_1$"
   ]
  },
  {
   "cell_type": "markdown",
   "id": "a54db21d",
   "metadata": {},
   "source": [
    "### Multiple Linear Regression\n",
    "\n",
    "<img src = '2.png'>\n",
    "\n",
    "**Multiple Linear Regression** predicts dependent variable from **multiple** independent variables.\n",
    "\n",
    "$\\hat{y} = \\beta_0 + \\beta_1x_1 + ... + \\beta_kx_k$\n",
    "\n",
    "Regression Coefficient = $\\beta_0$, $\\beta_1$, ... , $\\beta_k$"
   ]
  },
  {
   "cell_type": "markdown",
   "id": "c18c11e9",
   "metadata": {},
   "source": [
    "## Ordinary Least Squares (OLS)\n",
    "\n",
    "<img src = '4.png'>\n",
    "\n",
    "**Residual** : a difference between **actual output** and **predicted output**.\n",
    "\n",
    "$e_i = y_i - \\hat{y}_i$\n",
    "\n",
    "**Ordinary Least Squares** estimates **regression coefficients** that minimizes the **loss** between the data and the regression,<br>\n",
    "**Sum of Squared Errors (SSE)**\n",
    "\n",
    "$min \\Sigma_{i=1}^n(y_i - \\hat{y}_i)^2$\n",
    "\n",
    "### Proof.\n",
    "\n",
    "$SSE = \\Sigma_{i=1}^n(y_i - \\hat{y}_i)^2 = \\Sigma_{i=1}^n(y_i - \\hat{\\beta}_0 - \\hat{\\beta}_1x_{i1} - ... - \\hat{\\beta}_kx_{ik})^2$\n",
    "\n",
    "$= (Y - X\\beta)^T(Y - X\\beta) = Y^TY - Y^T(X\\beta) - (X\\beta)^TY + (X\\beta)^T(X\\beta)$\n",
    "\n",
    "$= Y^TY - 2\\beta^TX^Ty + \\beta^TX^TX\\beta$\n",
    "\n",
    "Do a Partial Derivative $\\frac{\\partial}{\\partial \\beta}$,\n",
    "\n",
    "$\\therefore \\beta = (X^TX)^{-1}X^Ty$\n",
    "\n",
    "So, $min \\Sigma_{i=1}^n(y_i - \\hat{y}_i)^2$ -> $\\beta = (X^TX)^{-1}X^Ty$"
   ]
  },
  {
   "cell_type": "markdown",
   "id": "23122b0d",
   "metadata": {},
   "source": [
    "## Maximum Likelihood Estimation\n",
    "\n",
    "<img src = '5.png'>\n",
    "\n",
    "**Likelihood** represents a probability of a data made from a certain distribution.\n",
    "\n",
    "To calculate all likelihoods of a data, **calculate** the height of all **candidate distribution** from each data sample and **multiply** them.<br>\n",
    "This is **Maximum Likelihood Estimation (MLE)**.\n",
    "\n",
    "**Maximum Likelihood Estimation (MLE)** finds the **parameters** of the distribution that maximizes the **likelihood** in the given situation.\n",
    "\n",
    "likelihood function = $P(x|\\theta) = \\Pi P(x_k|\\theta)$\n",
    "\n",
    "Log-likelihood function = $\\Sigma_{i=1}^n\\frac{\\partial}{\\partial \\theta}logP(x_i|\\theta) = 0$"
   ]
  }
 ],
 "metadata": {
  "kernelspec": {
   "display_name": "Python 3 (ipykernel)",
   "language": "python",
   "name": "python3"
  },
  "language_info": {
   "codemirror_mode": {
    "name": "ipython",
    "version": 3
   },
   "file_extension": ".py",
   "mimetype": "text/x-python",
   "name": "python",
   "nbconvert_exporter": "python",
   "pygments_lexer": "ipython3",
   "version": "3.9.12"
  }
 },
 "nbformat": 4,
 "nbformat_minor": 5
}
