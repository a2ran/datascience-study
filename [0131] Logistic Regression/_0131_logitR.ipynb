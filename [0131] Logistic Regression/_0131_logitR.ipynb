{
 "cells": [
  {
   "cell_type": "markdown",
   "id": "8ec70a61",
   "metadata": {},
   "source": [
    "[ML] Logistic Regression\n",
    "\n",
    "Skim through fundamental machine learning concepts and mathematical implications."
   ]
  },
  {
   "cell_type": "markdown",
   "id": "2c6159e3",
   "metadata": {},
   "source": [
    "## Logistic Regression\n",
    "\n",
    "**Logistic Regression** is a **binary classification model** labels a sample to **Class 1** if the probability exceeds 50%, and labels it to **Class 0** if not.\n",
    "\n",
    "$\\beta_0 + \\beta_1x_1 + ... + \\beta_kx_k = p$\n",
    "\n",
    "Domain = (-inf, + ing)<br>\n",
    "Range = [0, 1]\n",
    "\n",
    "Predicit $logit = ln\\frac{p}{1-p}$ to match Domain and Range.\n",
    "\n",
    "$\\beta_0 + \\beta_1x_1 + ... + \\beta_kx_k = ln\\frac{p}{1-p}$\n",
    "\n",
    "$\\therefore p = \\frac{1}{1 + e^{-(\\beta_0 + \\beta_1x_1 + ... + \\beta_kx_k)}}$ "
   ]
  },
  {
   "cell_type": "markdown",
   "id": "af3d2e57",
   "metadata": {},
   "source": [
    "## Sigmoid Function\n",
    "\n",
    "<img src = '1.png'>\n",
    "\n",
    "$\\frac{1}{1 + e^{-(\\beta_0 + \\beta_1x_1 + ... + \\beta_kx_k)}} = Sigmoid Function$\n",
    "\n",
    "**Sigmoid Function** returns any values to value range from $0$ to $1$."
   ]
  },
  {
   "cell_type": "markdown",
   "id": "a9bf2765",
   "metadata": {},
   "source": [
    "```python\n",
    "import numpy as np\n",
    "\n",
    "def sigmoid(x):\n",
    "    return 1/(1 + np.exp(-x))\n",
    "```"
   ]
  },
  {
   "cell_type": "markdown",
   "id": "e45f4ff3",
   "metadata": {},
   "source": [
    "## Loss Function\n",
    "\n",
    "**Logistic Regression** predicts regression coefficients by **Maximum Likelihood Estimates**.\n",
    "\n",
    "$Max$  $Likelihood$ = $\\Pi p(x_i) \\Pi (1 - p(x_i))$\n",
    "\n",
    "$\\Pi p(x_i)$ : probability of predicting 1 for actual 1\n",
    "$\\Pi (1 - p(x_i))$ : probability of predicting 0 for actual 0\n",
    "\n",
    "$Min$ $Loss$ = $-\\Sigma y_iln(p(x_i)) + (1 - y_i)ln(1 - p(x_i))$"
   ]
  },
  {
   "cell_type": "code",
   "execution_count": null,
   "id": "f14a9fb6",
   "metadata": {},
   "outputs": [],
   "source": []
  }
 ],
 "metadata": {
  "kernelspec": {
   "display_name": "Python 3 (ipykernel)",
   "language": "python",
   "name": "python3"
  },
  "language_info": {
   "codemirror_mode": {
    "name": "ipython",
    "version": 3
   },
   "file_extension": ".py",
   "mimetype": "text/x-python",
   "name": "python",
   "nbconvert_exporter": "python",
   "pygments_lexer": "ipython3",
   "version": "3.9.12"
  }
 },
 "nbformat": 4,
 "nbformat_minor": 5
}
