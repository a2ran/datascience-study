{
 "cells": [
  {
   "cell_type": "markdown",
   "id": "35ed6607",
   "metadata": {},
   "source": [
    "[ML] Support Vector Machine"
   ]
  },
  {
   "cell_type": "markdown",
   "id": "25e20067",
   "metadata": {},
   "source": [
    "## Support Vector Machine\n",
    "\n",
    "**Support Vector Machine** maximizes the **margin** between each class data by solving for a **hyperplane**.\n",
    "\n",
    "<img src = '1.png'>\n",
    "\n",
    "**Support Vector** = The **closest class data** from the hyperplane<br>\n",
    "**Margin** = **Sum of minimum distance** of support vectors and the hyperplane."
   ]
  },
  {
   "cell_type": "markdown",
   "id": "5bc40012",
   "metadata": {},
   "source": [
    "## Constraints\n",
    "\n",
    "Hyperplane : $f(X) = w_0 + w_1X_1 + w_2X_2 + ... + w_pX_p$\n",
    "\n",
    "Objective Function: $Max.M(margin)$\n",
    "\n",
    "Constraints:\n",
    "\n",
    "1. Most of the data should be further away from the hyperplane than the support vector.\n",
    "2. Allow some data to become closer to hyperplane than the support vector.\n",
    "\n",
    "**Slack Variable** $\\xi$ allows misclassified data to make model more robust to an outlier.\n",
    "\n",
    "$\\xi \\ge 0$"
   ]
  },
  {
   "cell_type": "markdown",
   "id": "b41c436d",
   "metadata": {},
   "source": [
    "<img src = '2.png'>\n",
    "\n",
    "The ideal hyperplane = $w_0 + w_1X_1 + w_2X_2 = 0$\n",
    "\n",
    "vectors located higher than the hyperplane : $w_0 + w_1X_1 + w_2X_2 >= +M/2$<br>\n",
    "vectors located lower than the hyperplane : $w_0 + w_1X_1 + w_2X_2 <= -M/2$\n",
    "\n",
    "1. $y_i(W \\circ X_i + w_0) \\ge M/2$\n",
    "2. $y_i(W \\circ X_i + w_0) \\ge M/2 - \\xi_i$\n",
    "\n",
    "-->\n",
    "\n",
    "$y_i(W \\circ X_i + w_0) \\ge M/2 - \\xi_i$, <br> $\\xi_i \\ge 0$\n",
    "\n",
    "-->\n",
    "\n",
    "$y_i[(W \\circ X_i) + w_0] \\ge 1 - \\xi_i ( i = 1, ... , n)$, <br> $\\xi \\ge 0$"
   ]
  },
  {
   "cell_type": "markdown",
   "id": "9688e252",
   "metadata": {},
   "source": [
    "## Objective Function\n",
    "\n",
    "$Max M = Max\\frac{2}{||W||} = Min\\frac{||W||}{2} = Min\\frac{{||W||}^2}{2}$\n",
    "\n",
    "Objective Function : $Min\\frac{{||W||}^2}{2} + C\\Sigma_i\\xi_i$\n",
    "\n",
    "<img src = '3.png'>\n",
    "\n",
    "$C$ = Hyperparameter, the lower, the softer the model.\n",
    "\n",
    "Hard Margin Classification: High $C$ value. Is sensitive to outliers.\n",
    "Soft Margin Classification: Low $C$ value. Classifies sample more flexible."
   ]
  },
  {
   "cell_type": "markdown",
   "id": "b6c1623d",
   "metadata": {},
   "source": [
    "## Non-Linear SVM\n",
    "\n",
    "<img src = '4.png'>\n",
    "\n",
    "**Non-Linear SVM** Uses the **kernel function** to solve hyperplane from the different dimension."
   ]
  },
  {
   "cell_type": "markdown",
   "id": "18ad78b7",
   "metadata": {},
   "source": [
    "## Kernel Function\n",
    "\n",
    "**Kernel Function** transforms the dimension of the input data to solve hyperplane from the different dimension.\n",
    "\n",
    "$k(X_i, X_j) = \\Phi(X_i)^T\\Phi(X_j)$\n",
    "\n",
    "**Kernel Trick** calculates the dot product of transformed input without **actually transforming it.**\n",
    "\n",
    "Original method: Data -> Transform -> Dot Product<br>\n",
    "Kernel Trick: Data -> **Skip** -> Dot Product"
   ]
  },
  {
   "cell_type": "markdown",
   "id": "062bbdb8",
   "metadata": {},
   "source": [
    "## Multiclass SVM\n",
    "\n",
    "<img src = '5.png'>\n",
    "\n",
    "**One-Versus-Rest** model calculates output for each two combinations, and classifies data into the class with the **highest output**\n",
    "\n",
    "<img src = '6.png'>\n",
    "\n",
    "**One-Versus_One** model calculates output for each two combinations, and classifies data by **majority voting** method."
   ]
  }
 ],
 "metadata": {
  "kernelspec": {
   "display_name": "Python 3 (ipykernel)",
   "language": "python",
   "name": "python3"
  },
  "language_info": {
   "codemirror_mode": {
    "name": "ipython",
    "version": 3
   },
   "file_extension": ".py",
   "mimetype": "text/x-python",
   "name": "python",
   "nbconvert_exporter": "python",
   "pygments_lexer": "ipython3",
   "version": "3.9.12"
  }
 },
 "nbformat": 4,
 "nbformat_minor": 5
}
