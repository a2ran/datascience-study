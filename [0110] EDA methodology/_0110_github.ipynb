{
 "cells": [
  {
   "cell_type": "markdown",
   "id": "3d707724",
   "metadata": {},
   "source": [
    "[basics] EDA (Exploratory Data Analysis)\n",
    "\n",
    "> EDA procedures, types, and exercises."
   ]
  },
  {
   "cell_type": "markdown",
   "id": "ab68298a",
   "metadata": {},
   "source": [
    "# <span style = \"color : blue\"> What is Exploratory Data Analysis (EDA)? </span>\n",
    "\n",
    "Exploratory Data Analysis is the process of analyzing and summarizing a dataset in order to understand its overall structure, patterns, and relationships. EDA pioneers any data analysis project, and is often used to help formulate hypotheses and identify areas of interest for further investigation."
   ]
  },
  {
   "cell_type": "markdown",
   "id": "1af44425",
   "metadata": {},
   "source": [
    "## <span style = \"color : skyblue\"> Data Analysis Procedures </span>\n",
    "\n",
    "1. Define Problems\n",
    "- Understand target, define target objectively.\n",
    "2. Collect Data\n",
    "- Organize necessary data, identify and secure data location.\n",
    "3. Data Analysis\n",
    "- Check for errors, improve data structure and features\n",
    "4. Data Modeling\n",
    "- Design data from various views, establish relationships between relative tables\n",
    "5. Visualization and Re-exploration\n",
    "- Derive insights to address various types of problem"
   ]
  },
  {
   "cell_type": "markdown",
   "id": "7e91abe1",
   "metadata": {},
   "source": [
    "## <span style = \"color : skyblue\"> Exploratory Data Analysis Procedures </span>\n",
    "\n",
    "1. Collect Data\n",
    "-  Create data collection pipeline, organize required data.\n",
    "2. Data Preprocessing\n",
    "- Handle missing data, explore outliers, data labeling...\n",
    "3. Data Scaling\n",
    "- Normalize/Standardize data, adjust volume (oversampling/undersampling)\n",
    "4. Data Visualization\n",
    "- Data Visualization (Modeling)\n",
    "5. Post processing\n",
    "- Explore outliers, Fine Tuning"
   ]
  },
  {
   "cell_type": "markdown",
   "id": "d22f9be1",
   "metadata": {},
   "source": [
    "# <span style = \"color : blue\"> Exercise </span>\n",
    "\n",
    "Examples of basic EDA methods\n",
    "\n",
    "```python\n",
    "train = pd.read_csv('train.csv')\n",
    "test = pd.read_csv('test.csv')\n",
    "```"
   ]
  },
  {
   "cell_type": "markdown",
   "id": "8edebeff",
   "metadata": {},
   "source": [
    "## <span style = \"color : skyblue\"> Interpolation </span>\n",
    "\n",
    "Interpolate missing values using various indicators from the dataframe.\n",
    "\n",
    "```python\n",
    "# Interpolate missing values via median\n",
    "df_train = df_train.fillna(df_train.median())\n",
    "df_test = df_test.fillna(df_test.median())\n",
    "```"
   ]
  },
  {
   "cell_type": "markdown",
   "id": "67de3a73",
   "metadata": {},
   "source": [
    "## <span style = \"color : skyblue\"> Encoder </span>\n",
    "\n",
    "Encode string values into int / float scalar to faciliate input selection.\n",
    "\n",
    "```python\n",
    "# Interpolate missing values via median\n",
    "from sklearn.preprocessing import LabelEncoder\n",
    "\n",
    "enc = LabelEncoder()\n",
    "\n",
    "enc.fit(train['Sex'])\n",
    "labels_1 = enc.transform(train['Sex'])\n",
    "labels_2 = enc.transform(test['Sex'])\n",
    "\n",
    "train['l_sex'] = labels_1\n",
    "test['l_sex'] = labels_2\n",
    "```"
   ]
  },
  {
   "cell_type": "markdown",
   "id": "b407e897",
   "metadata": {},
   "source": [
    "## <span style = \"color : skyblue\"> Histogram, QQplot </span>\n",
    "\n",
    "Visualize univariate data into histograms and QQplots.\n",
    "\n",
    "```python\n",
    "import scipy.stats as stats\n",
    "\n",
    "for col in numeric_f:\n",
    "    sns.distplot(filled_train.loc[filled_train[col].notnull(), col])\n",
    "    plt.title(col)\n",
    "    plt.show()\n",
    "```\n",
    "\n",
    "<img src = 'basic_0110_1.png' width = '400'>\n",
    "\n",
    "```python\n",
    "from scipy.stats import probplot #for qq plot\n",
    "\n",
    "f, axes = plt.subplots(2, 4, figsize=(12, 6))\n",
    "Age = np.array(filled_train['Age'])\n",
    "Sib = np.array(filled_train['SibSp'])\n",
    "Par = np.array(filled_train['Parch'])\n",
    "Age = np.array(filled_train['Fare'])\n",
    "\n",
    "axes[0][0].boxplot(Age)\n",
    "probplot(Age, plot=axes[1][0]) #scipy.stats.probplot\n",
    "axes[0][1].boxplot(Sib)\n",
    "probplot(Sib, plot=axes[1][1]) #scipy.stats.probplot\n",
    "axes[0][2].boxplot(Par)\n",
    "probplot(Par, plot=axes[1][2]) \n",
    "axes[0][3].boxplot(Age)\n",
    "probplot(Age, plot=axes[1][3]) #scipy.stats.probplot\n",
    "\n",
    "plt.show()    \n",
    "```\n",
    "\n",
    "<img src = 'basic_0110_2.png' width = '600'>"
   ]
  },
  {
   "cell_type": "markdown",
   "id": "96ce78c1",
   "metadata": {},
   "source": [
    "## <span style = \"color : skyblue\"> Cross Tabulation </span>\n",
    "\n",
    "Analyze multivariate data using pandas crosstab library.\n",
    "\n",
    "```python\n",
    "pd.crosstab(filled_train['Sex'], filled_train['Pclass'],\n",
    "            normalize = 'index', margins = True) \n",
    "```"
   ]
  },
  {
   "cell_type": "markdown",
   "id": "480ff515",
   "metadata": {},
   "source": [
    "## <span style = \"color : skyblue\"> Scatterplots & Heatmap </span>\n",
    "\n",
    "Visualize multivariate data using scatterplots and heatmap.\n",
    "\n",
    "```python\n",
    "import seaborn as sns\n",
    "\n",
    "sns.heatmap(df_corr, annot=True)\n",
    "plt.show()\n",
    "```\n",
    "\n",
    "<img src = 'basic_0110_3.png' width = '400'>\n",
    "\n",
    "```python\n",
    "sns.pairplot(filled_train[list(numeric_f)], \n",
    "             x_vars=numeric_f, y_vars=numeric_f)\n",
    "plt.show()\n",
    "```\n",
    "\n",
    "<img src = 'basic_0110_4.png' width = '600'>"
   ]
  },
  {
   "cell_type": "code",
   "execution_count": null,
   "id": "c3e9ea77",
   "metadata": {},
   "outputs": [],
   "source": []
  }
 ],
 "metadata": {
  "kernelspec": {
   "display_name": "Python 3 (ipykernel)",
   "language": "python",
   "name": "python3"
  },
  "language_info": {
   "codemirror_mode": {
    "name": "ipython",
    "version": 3
   },
   "file_extension": ".py",
   "mimetype": "text/x-python",
   "name": "python",
   "nbconvert_exporter": "python",
   "pygments_lexer": "ipython3",
   "version": "3.9.12"
  }
 },
 "nbformat": 4,
 "nbformat_minor": 5
}
